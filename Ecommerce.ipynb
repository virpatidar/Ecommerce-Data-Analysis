{
 "cells": [
  {
   "cell_type": "code",
   "execution_count": 1,
   "id": "b09d3473",
   "metadata": {},
   "outputs": [],
   "source": [
    "import numpy as np\n",
    "import pandas as pd\n",
    "import matplotlib.pyplot as plt\n"
   ]
  },
  {
   "cell_type": "code",
   "execution_count": 3,
   "id": "acf81718",
   "metadata": {},
   "outputs": [
    {
     "data": {
      "text/html": [
       "<div>\n",
       "<style scoped>\n",
       "    .dataframe tbody tr th:only-of-type {\n",
       "        vertical-align: middle;\n",
       "    }\n",
       "\n",
       "    .dataframe tbody tr th {\n",
       "        vertical-align: top;\n",
       "    }\n",
       "\n",
       "    .dataframe thead th {\n",
       "        text-align: right;\n",
       "    }\n",
       "</style>\n",
       "<table border=\"1\" class=\"dataframe\">\n",
       "  <thead>\n",
       "    <tr style=\"text-align: right;\">\n",
       "      <th></th>\n",
       "      <th>Order ID</th>\n",
       "      <th>Customer ID</th>\n",
       "      <th>Platform</th>\n",
       "      <th>Order Date &amp; Time</th>\n",
       "      <th>Delivery Time (Minutes)</th>\n",
       "      <th>Product Category</th>\n",
       "      <th>Order Value (INR)</th>\n",
       "      <th>Customer Feedback</th>\n",
       "      <th>Service Rating</th>\n",
       "      <th>Delivery Delay</th>\n",
       "      <th>Refund Requested</th>\n",
       "    </tr>\n",
       "  </thead>\n",
       "  <tbody>\n",
       "    <tr>\n",
       "      <th>0</th>\n",
       "      <td>ORD000001</td>\n",
       "      <td>CUST2824</td>\n",
       "      <td>JioMart</td>\n",
       "      <td>19:29.5</td>\n",
       "      <td>30</td>\n",
       "      <td>Fruits &amp; Vegetables</td>\n",
       "      <td>382</td>\n",
       "      <td>Fast delivery, great service!</td>\n",
       "      <td>5</td>\n",
       "      <td>No</td>\n",
       "      <td>No</td>\n",
       "    </tr>\n",
       "    <tr>\n",
       "      <th>1</th>\n",
       "      <td>ORD000002</td>\n",
       "      <td>CUST1409</td>\n",
       "      <td>Blinkit</td>\n",
       "      <td>54:29.5</td>\n",
       "      <td>16</td>\n",
       "      <td>Dairy</td>\n",
       "      <td>279</td>\n",
       "      <td>Quick and reliable!</td>\n",
       "      <td>5</td>\n",
       "      <td>No</td>\n",
       "      <td>No</td>\n",
       "    </tr>\n",
       "    <tr>\n",
       "      <th>2</th>\n",
       "      <td>ORD000003</td>\n",
       "      <td>CUST5506</td>\n",
       "      <td>JioMart</td>\n",
       "      <td>21:29.5</td>\n",
       "      <td>25</td>\n",
       "      <td>Beverages</td>\n",
       "      <td>599</td>\n",
       "      <td>Items missing from order.</td>\n",
       "      <td>2</td>\n",
       "      <td>No</td>\n",
       "      <td>Yes</td>\n",
       "    </tr>\n",
       "    <tr>\n",
       "      <th>3</th>\n",
       "      <td>ORD000004</td>\n",
       "      <td>CUST5012</td>\n",
       "      <td>JioMart</td>\n",
       "      <td>19:29.5</td>\n",
       "      <td>42</td>\n",
       "      <td>Beverages</td>\n",
       "      <td>946</td>\n",
       "      <td>Items missing from order.</td>\n",
       "      <td>2</td>\n",
       "      <td>Yes</td>\n",
       "      <td>Yes</td>\n",
       "    </tr>\n",
       "    <tr>\n",
       "      <th>4</th>\n",
       "      <td>ORD000005</td>\n",
       "      <td>CUST4657</td>\n",
       "      <td>Blinkit</td>\n",
       "      <td>49:29.5</td>\n",
       "      <td>30</td>\n",
       "      <td>Beverages</td>\n",
       "      <td>334</td>\n",
       "      <td>Fast delivery, great service!</td>\n",
       "      <td>5</td>\n",
       "      <td>No</td>\n",
       "      <td>No</td>\n",
       "    </tr>\n",
       "  </tbody>\n",
       "</table>\n",
       "</div>"
      ],
      "text/plain": [
       "    Order ID Customer ID Platform Order Date & Time  Delivery Time (Minutes)  \\\n",
       "0  ORD000001    CUST2824  JioMart           19:29.5                       30   \n",
       "1  ORD000002    CUST1409  Blinkit           54:29.5                       16   \n",
       "2  ORD000003    CUST5506  JioMart           21:29.5                       25   \n",
       "3  ORD000004    CUST5012  JioMart           19:29.5                       42   \n",
       "4  ORD000005    CUST4657  Blinkit           49:29.5                       30   \n",
       "\n",
       "      Product Category  Order Value (INR)              Customer Feedback  \\\n",
       "0  Fruits & Vegetables                382  Fast delivery, great service!   \n",
       "1                Dairy                279            Quick and reliable!   \n",
       "2            Beverages                599      Items missing from order.   \n",
       "3            Beverages                946      Items missing from order.   \n",
       "4            Beverages                334  Fast delivery, great service!   \n",
       "\n",
       "   Service Rating Delivery Delay Refund Requested  \n",
       "0               5             No               No  \n",
       "1               5             No               No  \n",
       "2               2             No              Yes  \n",
       "3               2            Yes              Yes  \n",
       "4               5             No               No  "
      ]
     },
     "execution_count": 3,
     "metadata": {},
     "output_type": "execute_result"
    }
   ],
   "source": [
    "data = pd.read_csv(\"Ecommerce_Delivery_Analytics_New.csv\")\n",
    "data.head()"
   ]
  },
  {
   "cell_type": "code",
   "execution_count": 8,
   "id": "90223a41",
   "metadata": {},
   "outputs": [
    {
     "name": "stdout",
     "output_type": "stream",
     "text": [
      "Order Value (INR) int64 0\n",
      "Delivery Time (Minutes) int64 0\n",
      "Service Rating int64 0\n"
     ]
    }
   ],
   "source": [
    "for col in data.select_dtypes(include=\"object\").columns:\n",
    "    data[col] = data[col].astype(str).str.strip()\n",
    "    data[col] = data[col].replace({\"\": pd.NA, \"nan\": pd.NA, \"none\": pd.NA, \"n/a\": pd.NA, \"na\": pd.NA})\n",
    "\n",
    "data.select_dtypes(include=\"object\").nunique().sort_values(ascending=False).head(20)\n",
    "\n",
    "date_cols = [c for c in data.columns if any(x in c for x in (\"date\",\"time\",\"timestamp\",\"datetime\"))]\n",
    "for c in date_cols:\n",
    "    data[c] = pd.to_datetime(data[c], errors=\"coerce\")\n",
    "    print(c, data[c].isna().mean())\n",
    "\n",
    "def to_numeric_clean(s):\n",
    "    return pd.to_numeric(s.astype(str).str.replace(\",\",\"\").str.replace(\"₹\",\"\").str.replace(\"$\",\"\").str.replace(\"%\",\"\"), errors=\"coerce\")\n",
    "\n",
    "possible_num = [\"Order Value (INR)\", \"Delivery Time (Minutes)\", \"Service Rating\"]  # adapt to your columns\n",
    "for c in possible_num:\n",
    "    data[c] = to_numeric_clean(data[c])\n",
    "    print(c, data[c].dtype, data[c].isna().sum())\n"
   ]
  },
  {
   "cell_type": "code",
   "execution_count": 9,
   "id": "6283d93d",
   "metadata": {},
   "outputs": [
    {
     "name": "stdout",
     "output_type": "stream",
     "text": [
      "duplicates removed: 0\n",
      "Order ID                   0\n",
      "Customer ID                0\n",
      "Platform                   0\n",
      "Order Date & Time          0\n",
      "Delivery Time (Minutes)    0\n",
      "Product Category           0\n",
      "Order Value (INR)          0\n",
      "Customer Feedback          0\n",
      "Service Rating             0\n",
      "Delivery Delay             0\n",
      "Refund Requested           0\n",
      "dtype: int64\n"
     ]
    }
   ],
   "source": [
    "dup_count = data.duplicated().sum()\n",
    "df = data.drop_duplicates().reset_index(drop=True)\n",
    "print(\"duplicates removed:\", dup_count)\n",
    "\n",
    "missing = df.isna().sum().sort_values(ascending=False)\n",
    "print(missing.head(30))\n"
   ]
  },
  {
   "cell_type": "code",
   "execution_count": 23,
   "id": "956efa72",
   "metadata": {},
   "outputs": [
    {
     "name": "stderr",
     "output_type": "stream",
     "text": [
      "C:\\Users\\viren\\AppData\\Local\\Temp\\ipykernel_20580\\182501463.py:29: UserWarning: Could not infer format, so each element will be parsed individually, falling back to `dateutil`. To ensure parsing is consistent and as-expected, please specify a format.\n",
      "  df[\"Order Date\"] = pd.to_datetime(df[\"Order Date & Time\"], errors=\"coerce\").dt.date\n",
      "C:\\Users\\viren\\AppData\\Local\\Temp\\ipykernel_20580\\182501463.py:30: UserWarning: Could not infer format, so each element will be parsed individually, falling back to `dateutil`. To ensure parsing is consistent and as-expected, please specify a format.\n",
      "  df[\"Order Hour\"] = pd.to_datetime(df[\"Order Date & Time\"], errors=\"coerce\").dt.hour\n"
     ]
    }
   ],
   "source": [
    "# Example: delivery_delay -> map variants\n",
    "df[\"Delivery Delay\"] = df[\"Delivery Delay\"].str.lower().map({\n",
    "    \"yes\":\"Yes\", \"y\":\"Yes\", \"no\":\"No\", \"n\":\"No\", \"true\":\"Yes\", \"false\":\"No\"\n",
    "})\n",
    "# For product_category: strip, title case and collapse typos\n",
    "df[\"Product Category\"] = df[\"Product Category\"].str.strip().str.title()\n",
    "# If many similar labels, group small categories into \"Other\"\n",
    "vc = df[\"Product Category\"].value_counts(normalize=True)\n",
    "small = vc[vc < 0.01].index\n",
    "df[\"Product Category\"] = df[\"Product Category\"].replace(list(small), \"Other\")\n",
    "\n",
    "def cap_iqr(series, k=3):\n",
    "    q1,q3 = series.quantile([0.25,0.75])\n",
    "    iqr = q3-q1\n",
    "    lower, upper = q1 - k*iqr, q3 + k*iqr\n",
    "    return series.clip(lower, upper)\n",
    "\n",
    "df[\"Delivery Time (Minutes)\"] = cap_iqr(df[\"Delivery Time (Minutes)\"], k=3)\n",
    "\n",
    "# Clean invalid time values in \"Order Date & Time\"\n",
    "df[\"Order Date & Time\"] = df[\"Order Date & Time\"].apply(\n",
    "    lambda x: x if pd.to_datetime(x, errors=\"coerce\") is not pd.NaT else None\n",
    ")\n",
    "\n",
    "# Drop rows with invalid \"Order Date & Time\"\n",
    "df = df.dropna(subset=[\"Order Date & Time\"])\n",
    "\n",
    "# Parse \"Order Date & Time\" and extract date and hour\n",
    "df[\"Order Date\"] = pd.to_datetime(df[\"Order Date & Time\"], errors=\"coerce\").dt.date\n",
    "df[\"Order Hour\"] = pd.to_datetime(df[\"Order Date & Time\"], errors=\"coerce\").dt.hour\n",
    "\n",
    "# buckets\n",
    "df[\"Delivery Speed Bucket\"] = pd.cut(df[\"Delivery Time (Minutes)\"],\n",
    "                                     bins=[-1,30,60,99999],\n",
    "                                     labels=[\"<30\",\"30-60\",\">60\"])\n",
    "df[\"is_refund\"] = df[\"Refund Requested\"].str.lower().map({\"yes\":1,\"no\":0})\n",
    "df[\"delay_flag\"] = df[\"Delivery Delay\"].str.lower().map({\"yes\":1,\"no\":0})\n",
    "\n",
    "\n"
   ]
  },
  {
   "cell_type": "code",
   "execution_count": 27,
   "id": "a8883ef1",
   "metadata": {},
   "outputs": [
    {
     "name": "stdout",
     "output_type": "stream",
     "text": [
      "<class 'pandas.core.frame.DataFrame'>\n",
      "Index: 39911 entries, 0 to 99998\n",
      "Data columns (total 16 columns):\n",
      " #   Column                   Non-Null Count  Dtype   \n",
      "---  ------                   --------------  -----   \n",
      " 0   Order ID                 39911 non-null  object  \n",
      " 1   Customer ID              39911 non-null  object  \n",
      " 2   Platform                 39911 non-null  object  \n",
      " 3   Order Date & Time        39911 non-null  object  \n",
      " 4   Delivery Time (Minutes)  39911 non-null  int64   \n",
      " 5   Product Category         39911 non-null  object  \n",
      " 6   Order Value (INR)        39911 non-null  int64   \n",
      " 7   Customer Feedback        39911 non-null  object  \n",
      " 8   Service Rating           39911 non-null  int64   \n",
      " 9   Delivery Delay           39911 non-null  object  \n",
      " 10  Refund Requested         39911 non-null  object  \n",
      " 11  Order Date               39911 non-null  object  \n",
      " 12  Order Hour               39911 non-null  int32   \n",
      " 13  Delivery Speed Bucket    39911 non-null  category\n",
      " 14  is_refund                39911 non-null  int64   \n",
      " 15  delay_flag               39911 non-null  int64   \n",
      "dtypes: category(1), int32(1), int64(5), object(9)\n",
      "memory usage: 4.8+ MB\n"
     ]
    }
   ],
   "source": [
    "df.to_csv(\"All_Ecommerce_NEW_cleaned_by_you.csv\", index=False)\n",
    "df.head()\n",
    "df.info()"
   ]
  },
  {
   "cell_type": "code",
   "execution_count": null,
   "id": "32af52cf",
   "metadata": {},
   "outputs": [],
   "source": []
  }
 ],
 "metadata": {
  "kernelspec": {
   "display_name": "Python 3",
   "language": "python",
   "name": "python3"
  },
  "language_info": {
   "codemirror_mode": {
    "name": "ipython",
    "version": 3
   },
   "file_extension": ".py",
   "mimetype": "text/x-python",
   "name": "python",
   "nbconvert_exporter": "python",
   "pygments_lexer": "ipython3",
   "version": "3.10.0"
  }
 },
 "nbformat": 4,
 "nbformat_minor": 5
}
